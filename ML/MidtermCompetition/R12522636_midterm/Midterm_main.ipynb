{
 "cells": [
  {
   "cell_type": "markdown",
   "metadata": {},
   "source": [
    "## Package import"
   ]
  },
  {
   "cell_type": "code",
   "execution_count": 2,
   "metadata": {},
   "outputs": [],
   "source": [
    "import pandas as pd\n",
    "import numpy as np\n",
    "from sklearn.preprocessing import Binarizer\n",
    "from sklearn.preprocessing import StandardScaler\n",
    "from sklearn.preprocessing import RobustScaler\n",
    "from sklearn.preprocessing import MinMaxScaler\n",
    "from sklearn.preprocessing import MaxAbsScaler\n",
    "from sklearn.metrics import f1_score\n",
    "from sklearn.metrics import classification_report, confusion_matrix, roc_auc_score, roc_curve, auc\n",
    "from sklearn.experimental import enable_iterative_imputer \n",
    "from sklearn.impute import SimpleImputer\n",
    "from sklearn.impute import KNNImputer\n",
    "from sklearn.impute import IterativeImputer\n",
    "from sklearn.linear_model import *\n",
    "from sklearn.linear_model import BayesianRidge\n",
    "from imblearn.over_sampling import SMOTE\n",
    "from imblearn.over_sampling import BorderlineSMOTE\n",
    "from sklearn.feature_selection import RFECV\n",
    "from sklearn.inspection import permutation_importance\n",
    "from sklearn.model_selection import train_test_split\n",
    "from sklearn.model_selection import cross_val_score\n",
    "from sklearn.model_selection import learning_curve\n",
    "from sklearn.model_selection import cross_validate\n",
    "from sklearn.model_selection import StratifiedKFold\n",
    "from sklearn.model_selection import GridSearchCV\n",
    "from sklearn.model_selection import KFold\n",
    "from sklearn.ensemble import RandomForestClassifier\n",
    "from sklearn.ensemble import ExtraTreesClassifier\n",
    "from sklearn.ensemble import VotingClassifier\n",
    "from lightgbm import LGBMClassifier\n",
    "from xgboost import XGBClassifier\n",
    "from matplotlib import pyplot as plt\n",
    "from sklearn.svm import SVR\n",
    "from sklearn.tree import DecisionTreeRegressor\n",
    "from sklearn.ensemble import RandomForestRegressor, GradientBoostingRegressor\n",
    "from xgboost import XGBRegressor\n",
    "from lightgbm import LGBMRegressor\n",
    "import warnings"
   ]
  },
  {
   "cell_type": "markdown",
   "metadata": {},
   "source": [
    "### 自定義函數：用來計算預估能獲得的最高f1分數"
   ]
  },
  {
   "cell_type": "code",
   "execution_count": 3,
   "metadata": {},
   "outputs": [],
   "source": [
    "# chrck y_pred\n",
    "def checkFunction(y_pred):\n",
    "    num0=0\n",
    "    num1=0\n",
    "    for i in y_pred:\n",
    "        if i==0:\n",
    "            num0+=1\n",
    "        else:\n",
    "            num1+=1\n",
    "\n",
    "    a=0\n",
    "    b=0\n",
    "    c=0\n",
    "    d=0\n",
    "\n",
    "    if num0>566:\n",
    "        d=566\n",
    "        c=0\n",
    "        b=num0-566\n",
    "        a=700-b\n",
    "    else:\n",
    "        d=num0\n",
    "        c=566-num0\n",
    "        a=700\n",
    "        b=0\n",
    "\n",
    "    f1_max=2*a/(2*a+b+c)\n",
    "    print(\"f1_max : \",f1_max)"
   ]
  },
  {
   "cell_type": "markdown",
   "metadata": {},
   "source": [
    "## EDA"
   ]
  },
  {
   "cell_type": "markdown",
   "metadata": {},
   "source": [
    "### 資料讀取&清理"
   ]
  },
  {
   "cell_type": "code",
   "execution_count": 4,
   "metadata": {},
   "outputs": [],
   "source": [
    "'''讀取原始資料&將資料轉換成dataframe'''\n",
    "original_training_data = pd.read_csv('./train.csv')\n",
    "training_data_df = original_training_data.iloc[:, :-1]\n",
    "last_column = original_training_data.iloc[:, -1].to_numpy()\n",
    "\n",
    "'''刪除原始資料缺失值過多及與題目無關的feature'''\n",
    "training_data_df = training_data_df.drop(['D_sds','D_sd1','D_td0','D_sms','D_sm1','D_tm0','D_Ra_Capacity','D_Ra_CDR'], axis=1)\n",
    "training_data_np = training_data_df.to_numpy()\n",
    "\n",
    "'''讀取測試資料&將資料轉換成dataframe'''\n",
    "testing_data = pd.read_csv('./X_test.csv')\n",
    "testing_data_df = testing_data.copy()\n",
    "\n",
    "'''測試資料刪除缺失值過多及與題目無關的feature'''\n",
    "testing_data_df = testing_data_df.drop(['D_sds','D_sd1','D_td0','D_sms','D_sm1','D_tm0','D_Ra_Capacity','D_Ra_CDR'], axis=1)\n",
    "testing_data_np = testing_data_df.to_numpy()"
   ]
  },
  {
   "cell_type": "markdown",
   "metadata": {},
   "source": [
    "### 資料處理：年代異常、Outlier、NaN、Scaler"
   ]
  },
  {
   "cell_type": "code",
   "execution_count": 5,
   "metadata": {},
   "outputs": [],
   "source": [
    "'''年代資料處理'''\n",
    "def day_to_year(dataframe):\n",
    "    dataframe_column = dataframe['D_Dbuild']\n",
    "    condition = (dataframe_column > 3000) | (dataframe_column < -3000)\n",
    "    dataframe_column[condition] = dataframe_column[condition] / 31557600 + 1970\n",
    "    dataframe['D_Dbuild'] = dataframe_column\n",
    "day_to_year(training_data_df)\n",
    "\n",
    "'''將大於90%值設為NaN，小於0的改為0'''\n",
    "for column in training_data_df:\n",
    "    column_stats = training_data_df[column].describe(percentiles=[0.90])\n",
    "    upper_limit = column_stats[\"90%\"]\n",
    "    training_data_df[column] = training_data_df[column].apply(lambda x: np.nan if x > upper_limit * 20 else x)\n",
    "    training_data_df[column] = training_data_df[column].apply(lambda x: 0 if x < 0 else x)\n",
    "\n",
    "'''缺項值填補'''\n",
    "imputer = IterativeImputer(estimator=BayesianRidge(n_iter=300,tol=1e-2),imputation_order='ascending',max_iter=30,random_state=42)\n",
    "training_data_np = imputer.fit_transform(training_data_df)\n",
    "testing_data_np = imputer.transform(testing_data_df)\n",
    "\n",
    "training_data_df = pd.DataFrame(training_data_np, columns=training_data_df.columns)\n",
    "training_data_df.head(20)\n",
    "\n",
    "'''RobustScaler處理'''\n",
    "scaler = RobustScaler()\n",
    "training_data_np = scaler.fit_transform(training_data_np)\n",
    "testing_data_np = scaler.transform(testing_data_np)\n",
    "training_data_df = pd.DataFrame(training_data_np, columns=training_data_df.columns)\n",
    "training_data_df.describe(percentiles=[0.1,0.25,0.5,0.75,0.9])\n",
    "\n",
    "'''確認XY資料大小'''\n",
    "X = training_data_df\n",
    "Y = last_column"
   ]
  },
  {
   "cell_type": "markdown",
   "metadata": {},
   "source": [
    "### 重要特徵篩選"
   ]
  },
  {
   "cell_type": "code",
   "execution_count": 6,
   "metadata": {},
   "outputs": [],
   "source": [
    "'''permutation_importance'''\n",
    "model=XGBClassifier(n_estimators=300, max_depth=20,learning_rate=0.1,gamma=0.2,scale_pos_weight=670/2664,random_state=42)\n",
    "model.fit(X, Y)\n",
    "perm_importance = permutation_importance(model, X, Y, random_state=42)\n",
    "importance = perm_importance.importances_mean\n",
    "importance = pd.DataFrame(importance)\n",
    "\n",
    "'''permutation_importance資料分切'''\n",
    "filtered_importance_df=importance.nlargest(11,0)\n",
    "filtered_features =[]\n",
    "for i in filtered_importance_df[0].index:\n",
    "    filtered_features.append(training_data_df.columns[i])\n",
    "filtered_features_df = training_data_df[filtered_features]\n",
    "\n",
    "'''確認最終XY資料大小'''\n",
    "X = filtered_features_df\n",
    "Y = last_column"
   ]
  },
  {
   "cell_type": "markdown",
   "metadata": {},
   "source": [
    "### 原始資料reload並僅使用重要feature做data preprocessing：Outlier處理、NaN、Scaler"
   ]
  },
  {
   "cell_type": "code",
   "execution_count": 7,
   "metadata": {},
   "outputs": [],
   "source": [
    "'''重新讀取原始資料並對重要欄位做資料預處理'''\n",
    "warnings.filterwarnings(\"ignore\")   \n",
    "\n",
    "training_data_df = original_training_data[filtered_features]\n",
    "testing_data_df = testing_data_df[filtered_features]\n",
    "\n",
    "for column in training_data_df:\n",
    "    column_stats = training_data_df[column].describe(percentiles=[0.90])\n",
    "    upper_limit = column_stats[\"90%\"]\n",
    "    training_data_df[column] = training_data_df[column].apply(lambda x: np.nan if x > upper_limit * 20 else x)\n",
    "    training_data_df[column] = training_data_df[column].apply(lambda x: 0 if x < 0 else x)\n",
    "\n",
    "imputer = IterativeImputer(estimator=BayesianRidge(n_iter=300,tol=1e-2),imputation_order='ascending',max_iter=30,random_state=42)\n",
    "training_data_np = imputer.fit_transform(training_data_df)\n",
    "testing_data_np = imputer.transform(testing_data_df)\n",
    "training_data_df = pd.DataFrame(training_data_np, columns=training_data_df.columns)\n",
    "testing_data_df = pd.DataFrame(testing_data_np, columns=testing_data_df.columns)\n",
    "\n",
    "scaler = RobustScaler()\n",
    "training_data_np = scaler.fit_transform(training_data_df)\n",
    "testing_data_np = scaler.transform(testing_data_df)\n",
    "training_data_df = pd.DataFrame(training_data_np, columns=training_data_df.columns)"
   ]
  },
  {
   "cell_type": "markdown",
   "metadata": {},
   "source": [
    "### 訓練資料讀取，並進行SMOTE"
   ]
  },
  {
   "cell_type": "code",
   "execution_count": 14,
   "metadata": {},
   "outputs": [],
   "source": [
    "'''對imbalanced data進行處理'''\n",
    "X = training_data_df\n",
    "Y = last_column\n",
    "\n",
    "X, Y = SMOTE(random_state=42,k_neighbors=7).fit_resample(X, Y)"
   ]
  },
  {
   "cell_type": "markdown",
   "metadata": {},
   "source": [
    "## Model Tuning"
   ]
  },
  {
   "cell_type": "markdown",
   "metadata": {},
   "source": [
    "### XGBClassifier(feature=8)\n",
    "Best score: {'class_weight': 'balanced', 'gamma': 0, 'learning_rate': 0.05, 'max_depth': 15, 'n_estimators': 300, 'reg_alpha': 1, 'reg_lambda': 1}"
   ]
  },
  {
   "cell_type": "code",
   "execution_count": 9,
   "metadata": {},
   "outputs": [
    {
     "name": "stdout",
     "output_type": "stream",
     "text": [
      "accuracy =  0.8541912639061385\n",
      "f1 =  0.86733188549697\n",
      "label\n",
      "0    281\n",
      "1    985\n",
      "dtype: int64\n",
      "f1_max :  0.8308605341246291\n"
     ]
    }
   ],
   "source": [
    "'''tuning best parameter'''\n",
    "model=XGBClassifier(n_estimators=300, max_depth=15,learning_rate=0.05,gamma=0,scale_pos_weight=1,reg_alpha=1, reg_lambda = 1, random_state=42)\n",
    "model.fit(X, Y)\n",
    "\n",
    "results1 = cross_val_score(model, X, Y, cv=5,scoring='accuracy')\n",
    "results2 = cross_val_score(model, X, Y, cv=5,scoring='f1')\n",
    "\n",
    "print(\"accuracy = \",results1.mean())\n",
    "print(\"f1 = \",results2.mean())\n",
    "\n",
    "X_test = testing_data_np\n",
    "predictions = model.predict(X_test)\n",
    "\n",
    "ids = np.arange(1, 1267)\n",
    "predictions_series = pd.Series(predictions)\n",
    "predictions_df = pd.DataFrame({'id': ids, 'label': predictions_series})\n",
    "\n",
    "class_counts = predictions_df.groupby('label').size()\n",
    "print(class_counts)\n",
    "checkFunction(predictions)"
   ]
  },
  {
   "cell_type": "markdown",
   "metadata": {},
   "source": [
    "### ExtraTreesClassifier(feature=9)\n"
   ]
  },
  {
   "cell_type": "code",
   "execution_count": 11,
   "metadata": {},
   "outputs": [
    {
     "name": "stdout",
     "output_type": "stream",
     "text": [
      "accuracy =  0.9091671731451877\n",
      "f1 =  0.9087553804446966\n",
      "label\n",
      "0    289\n",
      "1    977\n",
      "dtype: int64\n",
      "f1_max :  0.8348240906380441\n"
     ]
    }
   ],
   "source": [
    "model= ExtraTreesClassifier(random_state=42)\n",
    "model.fit(X, Y)\n",
    "\n",
    "results1 = cross_val_score(model, X, Y, cv=5,scoring='accuracy')\n",
    "results2 = cross_val_score(model, X, Y, cv=5,scoring='f1')\n",
    "\n",
    "print(\"accuracy = \",results1.mean())\n",
    "print(\"f1 = \",results2.mean())\n",
    "\n",
    "X_test = testing_data_np\n",
    "predictions = model.predict(X_test)\n",
    "\n",
    "ids = np.arange(1, 1267)\n",
    "predictions_series = pd.Series(predictions)\n",
    "predictions_df = pd.DataFrame({'id': ids, 'label': predictions_series})\n",
    "\n",
    "class_counts = predictions_df.groupby('label').size()\n",
    "print(class_counts)\n",
    "checkFunction(predictions)"
   ]
  },
  {
   "cell_type": "markdown",
   "metadata": {},
   "source": [
    "### RandomForestClassifier(feature=11)\n",
    "- Best score: {'class_weight': 'balanced', 'max_depth': None, 'max_leaf_nodes': None, 'min_samples_leaf': 1, 'min_samples_split': 2, 'n_estimators': 100}\n",
    "- accuracy =  0.7975404189796993\n",
    "- f1 =  0.8851809433092288\n",
    "- label\n",
    "- 0     157\n",
    "- 1    1109\n",
    "- f1_max :  0.7739082365948038"
   ]
  },
  {
   "cell_type": "code",
   "execution_count": 13,
   "metadata": {},
   "outputs": [
    {
     "name": "stdout",
     "output_type": "stream",
     "text": [
      "accuracy =  0.8697597970562588\n",
      "f1 =  0.8723420513268902\n",
      "label\n",
      "0    337\n",
      "1    929\n",
      "dtype: int64\n",
      "f1_max :  0.8594229588704727\n"
     ]
    }
   ],
   "source": [
    "model = RandomForestClassifier(random_state=42) #kaggle=0.79775\n",
    "model.fit(X, Y)\n",
    "\n",
    "results1 = cross_val_score(model, X, Y, cv=5,scoring='accuracy')\n",
    "results2 = cross_val_score(model, X, Y, cv=5,scoring='f1')\n",
    "\n",
    "print(\"accuracy = \",results1.mean())\n",
    "print(\"f1 = \",results2.mean())\n",
    "\n",
    "X_test = testing_data_np\n",
    "predictions = model.predict(X_test)\n",
    "\n",
    "ids = np.arange(1, 1267)\n",
    "predictions_series = pd.Series(predictions)\n",
    "predictions_df = pd.DataFrame({'id': ids, 'label': predictions_series})\n",
    "\n",
    "class_counts = predictions_df.groupby('label').size()\n",
    "print(class_counts)\n",
    "checkFunction(predictions)"
   ]
  },
  {
   "cell_type": "markdown",
   "metadata": {},
   "source": [
    "### Voting"
   ]
  },
  {
   "cell_type": "code",
   "execution_count": 30,
   "metadata": {},
   "outputs": [],
   "source": [
    "'''VotingClassifier'''\n",
    "'''RandomForestClassifier'''\n",
    "params = {\n",
    "    'n_estimators': [100, 200,300,400, 500,600,700,800,900,1000],\n",
    "    'max_depth': [None,3, 5, 7, 9],\n",
    "    'min_samples_split': [2,4,5],\n",
    "    'min_samples_leaf': [1,2,4,5],\n",
    "    'max_leaf_nodes': [None, 10, 20, 30],\n",
    "    'class_weight': ['balanced']\n",
    "}\n",
    "gs1 = GridSearchCV(RandomForestClassifier(n_jobs=-1,random_state=42), params, n_jobs=-1, cv=KFold(n_splits=3), scoring='f1')\n",
    "gs1.fit(X, Y)\n",
    "print(\"RandomForestClassifier\")\n",
    "print('Best score:', gs1.best_score_)\n",
    "print('Best score:', gs1.best_params_)\n",
    "##########################################################################################\n",
    "'''XGBClassifier'''\n",
    "params = {\n",
    "    'n_estimators': [100, 200,300,400, 500,600,700,800,900,1000],\n",
    "    'learning_rate': [0.01,0.05,0.1,0.2,0.3],\n",
    "    'gamma': [0, 0.2, 0.5],\n",
    "    'reg_alpha': [0, 0.5, 1],\n",
    "    'reg_lambda': [0.5, 1, 3,5],\n",
    "    'max_depth': [3, 5,6, 7, 9, 11, 13, 15,17,20],\n",
    "}\n",
    "model = XGBClassifier(n_jobs=-1,random_state=42)\n",
    "gs2 = GridSearchCV(XGBClassifier(n_jobs=-1,random_state=42), params, n_jobs=-1, cv=KFold(n_splits=3), scoring='f1')\n",
    "gs2.fit(X, Y)\n",
    "print(\"XGBClassifier\")\n",
    "print('Best score:', gs2.best_score_)\n",
    "print('Best score:', gs2.best_params_)\n",
    "##########################################################################################\n",
    "'''ExtraTreesClassifier'''\n",
    "params = {\n",
    "    'n_estimators': [100, 200,300,400, 500,600,700,800,900,1000],\n",
    "    'max_depth': [None,3, 5, 7, 9],\n",
    "    'min_samples_split': [1,2,4,5,7,10],\n",
    "    'min_samples_leaf': [1,2,4,5,7,10],\n",
    "    'max_leaf_nodes': [4,8,10,15,20,50,None]\n",
    "}\n",
    "gs3 = GridSearchCV(ExtraTreesClassifier(n_jobs=-1), params, n_jobs=-1, cv=KFold(n_splits=3), scoring='f1')\n",
    "gs3.fit(X, Y)\n",
    "print(\"ExtraTreesClassifier\")\n",
    "print('Best score:', gs3.best_score_)\n",
    "print('Best score:', gs3.best_params_)"
   ]
  },
  {
   "cell_type": "code",
   "execution_count": 15,
   "metadata": {},
   "outputs": [
    {
     "name": "stdout",
     "output_type": "stream",
     "text": [
      "accuracy =  0.8896546256903524\n",
      "f1 =  0.8938956905888482\n",
      "label\n",
      "0    302\n",
      "1    964\n",
      "dtype: int64\n",
      "f1_max :  0.8413461538461539\n"
     ]
    }
   ],
   "source": [
    "votes = [\n",
    "    ('rf', RandomForestClassifier(random_state=42)),\n",
    "    ('xgb',XGBClassifier(n_estimators=400, max_depth=17,learning_rate=0.1,gamma=0.2,scale_pos_weight=1,random_state=42)),\n",
    "    ('xt', ExtraTreesClassifier(random_state=42)),\n",
    "]\n",
    "\n",
    "# votes = [\n",
    "#     ('rf', gs1.best_estimator_),\n",
    "#     ('xgb', gs2.best_estimator_),\n",
    "#     ('xt', gs3.best_estimator_),\n",
    "# ]\n",
    "\n",
    "votesClass = VotingClassifier(estimators=votes, voting='hard',weights=[1,1,1],n_jobs=-1)\n",
    "votesClass_cv = cross_validate(votesClass, X, Y, cv=KFold(3))\n",
    "votesClass.fit(X, Y)\n",
    "\n",
    "model = votesClass\n",
    "\n",
    "results1 = cross_val_score(model, X, Y, cv=5,scoring='accuracy')\n",
    "results2 = cross_val_score(model, X, Y, cv=5,scoring='f1')\n",
    "\n",
    "print(\"accuracy = \",results1.mean())\n",
    "print(\"f1 = \",results2.mean())\n",
    "\n",
    "X_test = testing_data_np\n",
    "predictions = model.predict(X_test)\n",
    "\n",
    "ids = np.arange(1, 1267)\n",
    "predictions_series = pd.Series(predictions)\n",
    "predictions_df = pd.DataFrame({'id': ids, 'label': predictions_series})\n",
    "\n",
    "class_counts = predictions_df.groupby('label').size()\n",
    "print(class_counts)\n",
    "checkFunction(predictions)"
   ]
  },
  {
   "cell_type": "markdown",
   "metadata": {},
   "source": [
    "### Performance report"
   ]
  },
  {
   "cell_type": "code",
   "execution_count": 16,
   "metadata": {},
   "outputs": [
    {
     "name": "stdout",
     "output_type": "stream",
     "text": [
      "VotingClassifier(estimators=[('rf', RandomForestClassifier(random_state=42)),\n",
      "                             ('xgb',\n",
      "                              XGBClassifier(base_score=None, booster=None,\n",
      "                                            callbacks=None,\n",
      "                                            colsample_bylevel=None,\n",
      "                                            colsample_bynode=None,\n",
      "                                            colsample_bytree=None,\n",
      "                                            early_stopping_rounds=None,\n",
      "                                            enable_categorical=False,\n",
      "                                            eval_metric=None,\n",
      "                                            feature_types=None, gamma=0.2,\n",
      "                                            gpu_id=None, grow_policy=None,\n",
      "                                            importance_type...\n",
      "                                            interaction_constraints=None,\n",
      "                                            learning_rate=0.1, max_bin=None,\n",
      "                                            max_cat_threshold=None,\n",
      "                                            max_cat_to_onehot=None,\n",
      "                                            max_delta_step=None, max_depth=17,\n",
      "                                            max_leaves=None,\n",
      "                                            min_child_weight=None, missing=nan,\n",
      "                                            monotone_constraints=None,\n",
      "                                            n_estimators=400, n_jobs=None,\n",
      "                                            num_parallel_tree=None,\n",
      "                                            predictor=None, random_state=42, ...)),\n",
      "                             ('xt', ExtraTreesClassifier(random_state=42))],\n",
      "                 n_jobs=-1, weights=[1, 1, 1])\n",
      "Train performance\n",
      "-------------------------------------------------------\n",
      "              precision    recall  f1-score   support\n",
      "\n",
      "           0       1.00      1.00      1.00      2150\n",
      "           1       1.00      1.00      1.00      2112\n",
      "\n",
      "    accuracy                           1.00      4262\n",
      "   macro avg       1.00      1.00      1.00      4262\n",
      "weighted avg       1.00      1.00      1.00      4262\n",
      "\n",
      "Test performance\n",
      "-------------------------------------------------------\n",
      "              precision    recall  f1-score   support\n",
      "\n",
      "           0       0.87      0.92      0.90       514\n",
      "           1       0.93      0.87      0.90       552\n",
      "\n",
      "    accuracy                           0.90      1066\n",
      "   macro avg       0.90      0.90      0.90      1066\n",
      "weighted avg       0.90      0.90      0.90      1066\n",
      "\n",
      "Roc_auc score\n",
      "-------------------------------------------------------\n",
      "0.89775066260644\n",
      "\n",
      "Confusion matrix\n",
      "-------------------------------------------------------\n",
      "[[475  39]\n",
      " [ 71 481]]\n"
     ]
    }
   ],
   "source": [
    "X_train, X_test, Y_train, Y_test = train_test_split(X, Y, test_size=0.2, random_state=42)\n",
    "\n",
    "model.fit(X_train, Y_train)\n",
    "y_train_hat = model.predict(X_train)\n",
    "y_test_hat = model.predict(X_test)\n",
    "\n",
    "print(model)\n",
    "print('Train performance')\n",
    "print('-------------------------------------------------------')\n",
    "print(classification_report(Y_train, y_train_hat))\n",
    "\n",
    "print('Test performance')\n",
    "print('-------------------------------------------------------')\n",
    "print(classification_report(Y_test, y_test_hat))\n",
    "\n",
    "print('Roc_auc score')\n",
    "print('-------------------------------------------------------')\n",
    "print(roc_auc_score(Y_test, y_test_hat))\n",
    "print('')\n",
    "\n",
    "print('Confusion matrix')\n",
    "print('-------------------------------------------------------')\n",
    "print(confusion_matrix(Y_test, y_test_hat))"
   ]
  },
  {
   "cell_type": "markdown",
   "metadata": {},
   "source": [
    "### Hyperparameters tuning validation plot"
   ]
  },
  {
   "cell_type": "code",
   "execution_count": 89,
   "metadata": {},
   "outputs": [
    {
     "data": {
      "image/png": "[encoded data removed]",
      "text/plain": [
       "<Figure size 640x480 with 1 Axes>"
      ]
     },
     "metadata": {},
     "output_type": "display_data"
    }
   ],
   "source": [
    "max_depths = np.linspace(0, 0.5, 50, dtype=float,endpoint=True)\n",
    "# max_depths = np.arange(1, 50, 1).astype(int)\n",
    "\n",
    "train_results = []\n",
    "test_results = []\n",
    "\n",
    "for i in max_depths:\n",
    "    try:\n",
    "        dt = RandomForestClassifier(min_samples_split=45,min_samples_leaf =40,min_weight_fraction_leaf=0.5,random_state=42)\n",
    "        dt.fit(x_train, y_train)    \n",
    "        #compute accuracy for train data\n",
    "        housing_tree = dt.predict(x_train)\n",
    "        errors = abs(housing_tree - y_train)\n",
    "        # Calculate mean absolute percentage error (MAPE)\n",
    "        mape = 100 * (errors / y_train)\n",
    "        # Calculate and display accuracy\n",
    "        accuracy = 100 - np.mean(f1_score(y_train, housing_tree, average=None))\n",
    "        #append results of accuracy\n",
    "        train_results.append(accuracy)\n",
    "        \n",
    "        #now again for test data\n",
    "        housing_tree = dt.predict(x_test)\n",
    "        errors = abs(housing_tree - y_test)\n",
    "        # Calculate mean absolute percentage error (MAPE)\n",
    "        mape = 100 * (errors / y_test)\n",
    "        # Calculate and display accuracy\n",
    "        accuracy = 100 - np.mean(f1_score(y_test, housing_tree, average=None))\n",
    "        #append results of accuracy\n",
    "        test_results.append(accuracy)\n",
    "    except Exception as e:\n",
    "        print(f\"Error at depth {i}: {str(e)}\")\n",
    "    \n",
    "from matplotlib.legend_handler import HandlerLine2D\n",
    "line1, = plt.plot(max_depths, train_results, 'b', label='Train accuracy')\n",
    "line2, = plt.plot(max_depths, test_results, 'r', label= 'Test accuracy')\n",
    "\n",
    "plt.legend(handler_map={line1: HandlerLine2D(numpoints=2)})\n",
    "plt.ylabel('Accuracy score')\n",
    "plt.xlabel('Tree depth')\n",
    "plt.show()"
   ]
  },
  {
   "cell_type": "code",
   "execution_count": 239,
   "metadata": {},
   "outputs": [
    {
     "data": {
      "image/png": "[encoded data removed]",
      "text/plain": [
       "<Figure size 640x480 with 1 Axes>"
      ]
     },
     "metadata": {},
     "output_type": "display_data"
    }
   ],
   "source": [
    "from sklearn.model_selection import learning_curve\n",
    "import matplotlib.pyplot as plt\n",
    "\n",
    "train_sizes, train_scores, test_scores = learning_curve(model, X, Y, cv=5, scoring='f1', n_jobs=-1)\n",
    "\n",
    "train_scores_mean = np.mean(train_scores, axis=1)\n",
    "test_scores_mean = np.mean(test_scores, axis=1)\n",
    "\n",
    "plt.figure()\n",
    "plt.title(\"Learning Curve\")\n",
    "plt.xlabel(\"Training examples\")\n",
    "plt.ylabel(\"Score\")\n",
    "plt.grid()\n",
    "\n",
    "plt.plot(train_sizes, train_scores_mean, 'o-', label=\"Training score\")\n",
    "plt.plot(train_sizes, test_scores_mean, 'o-', label=\"Cross-validation score\")\n",
    "\n",
    "plt.legend(loc=\"best\")\n",
    "plt.show()\n"
   ]
  },
  {
   "cell_type": "code",
   "execution_count": 238,
   "metadata": {},
   "outputs": [
    {
     "data": {
      "image/png": "[encoded data removed]",
      "text/plain": [
       "<Figure size 640x480 with 1 Axes>"
      ]
     },
     "metadata": {},
     "output_type": "display_data"
    }
   ],
   "source": [
    "from sklearn.model_selection import validation_curve\n",
    "\n",
    "param_range = [100,200,300,400,500,600,700,800,900,1000,1100,1200,1300,1400,1500,1600,1700,1800,1900,2000,2500,3000] # 這裡是一個示例，你可以選擇不同的超參數值\n",
    "# param_range = ['auto', 'sqrt', 'log2', None]\n",
    "train_scores, test_scores = validation_curve(model, X, Y, param_name=\"n_estimators\", param_range=param_range, cv=5, scoring='f1', n_jobs=-1)\n",
    "\n",
    "train_scores_mean = np.mean(train_scores, axis=1)\n",
    "test_scores_mean = np.mean(test_scores, axis=1)\n",
    "\n",
    "plt.figure()\n",
    "plt.title(\"Validation Curve\")\n",
    "plt.ylabel(\"Score\")\n",
    "plt.grid()\n",
    "\n",
    "plt.plot(param_range, train_scores_mean, 'o-', label=\"Training score\")\n",
    "plt.plot(param_range, test_scores_mean, 'o-', label=\"Cross-validation score\")\n",
    "\n",
    "plt.legend(loc=\"best\")\n",
    "plt.show()\n"
   ]
  },
  {
   "cell_type": "markdown",
   "metadata": {},
   "source": [
    "## 儲存最終預測結果"
   ]
  },
  {
   "cell_type": "code",
   "execution_count": 23,
   "metadata": {},
   "outputs": [],
   "source": [
    "predictions_df.to_csv('./predictions/70.csv', index=False)"
   ]
  },
  {
   "cell_type": "markdown",
   "metadata": {},
   "source": [
    "<mark> 700(1)/566(0)<mark>"
   ]
  }
 ],
 "metadata": {
  "kernelspec": {
   "display_name": "ML",
   "language": "python",
   "name": "python3"
  },
  "language_info": {
   "codemirror_mode": {
    "name": "ipython",
    "version": 3
   },
   "file_extension": ".py",
   "mimetype": "text/x-python",
   "name": "python",
   "nbconvert_exporter": "python",
   "pygments_lexer": "ipython3",
   "version": "3.10.11"
  }
 },
 "nbformat": 4,
 "nbformat_minor": 2
}
