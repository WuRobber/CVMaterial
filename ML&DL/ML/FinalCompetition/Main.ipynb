{
 "cells": [
  {
   "cell_type": "markdown",
   "metadata": {},
   "source": [
    "### Package Import"
   ]
  },
  {
   "cell_type": "code",
   "execution_count": 1,
   "metadata": {},
   "outputs": [],
   "source": [
    "import h5py"
   ]
  },
  {
   "cell_type": "code",
   "execution_count": 2,
   "metadata": {},
   "outputs": [],
   "source": [
    "import os\n",
    "import cv2  \n",
    "import pandas as pd\n",
    "import matplotlib.pyplot as plt             \n",
    "import numpy as np                        \n",
    "import tensorflow as tf                \n",
    "from tqdm import tqdm\n",
    "from collections import Counter\n"
   ]
  },
  {
   "cell_type": "markdown",
   "metadata": {},
   "source": [
    "### GPU Testing"
   ]
  },
  {
   "cell_type": "code",
   "execution_count": 3,
   "metadata": {},
   "outputs": [
    {
     "name": "stdout",
     "output_type": "stream",
     "text": [
      "[PhysicalDevice(name='/physical_device:GPU:0', device_type='GPU')]\n",
      "WARNING:tensorflow:From C:\\Users\\Aprilab\\AppData\\Local\\Temp\\ipykernel_27248\\2239004823.py:2: is_gpu_available (from tensorflow.python.framework.test_util) is deprecated and will be removed in a future version.\n",
      "Instructions for updating:\n",
      "Use `tf.config.list_physical_devices('GPU')` instead.\n",
      "True\n"
     ]
    }
   ],
   "source": [
    "print(tf.config.list_physical_devices('GPU'))\n",
    "print(tf.test.is_gpu_available())"
   ]
  },
  {
   "cell_type": "code",
   "execution_count": 4,
   "metadata": {},
   "outputs": [
    {
     "name": "stdout",
     "output_type": "stream",
     "text": [
      "0\n",
      "1 Physical GPUs, 1 Logical GPUs\n"
     ]
    }
   ],
   "source": [
    "'''Release Memory'''\n",
    "from keras.backend import set_session\n",
    "from keras.backend import clear_session\n",
    "from keras.backend import get_session\n",
    "import gc\n",
    "\n",
    "# Reset Keras Session\n",
    "def reset_keras():\n",
    "    sess = get_session()\n",
    "    clear_session()\n",
    "    sess.close()\n",
    "    sess = get_session()\n",
    "\n",
    "    try:\n",
    "        del classifier # this is from global space - change this as you need\n",
    "    except:\n",
    "        pass\n",
    "\n",
    "    print(gc.collect()) # if it does something you should see a number as output\n",
    "\n",
    "    # use the same config as you used to create the session\n",
    "    config = tf.compat.v1.ConfigProto()\n",
    "    config.gpu_options.per_process_gpu_memory_fraction = 1\n",
    "    config.gpu_options.visible_device_list = \"0\"\n",
    "    set_session(tf.compat.v1.Session(config=config))\n",
    "reset_keras()\n",
    "\n",
    "gpus = tf.config.list_physical_devices('GPU')\n",
    "if gpus:\n",
    "    try:\n",
    "    # Currently, memory growth needs to be the same across GPUs\n",
    "        for gpu in gpus:\n",
    "            tf.config.experimental.set_memory_growth(gpu, True)\n",
    "            logical_gpus = tf.config.list_logical_devices('GPU')\n",
    "            print(len(gpus), \"Physical GPUs,\", len(logical_gpus), \"Logical GPUs\")\n",
    "    except RuntimeError as e:\n",
    "        # Memory growth must be set before GPUs have been initialized\n",
    "        print(e)"
   ]
  },
  {
   "cell_type": "markdown",
   "metadata": {},
   "source": [
    "### Data Preprocessing"
   ]
  },
  {
   "cell_type": "code",
   "execution_count": 5,
   "metadata": {},
   "outputs": [],
   "source": [
    "# '''Use best model to predict unlabeled data''' \n",
    "# import os\n",
    "# import cv2\n",
    "# import numpy as np\n",
    "# import pandas as pd\n",
    "# from tqdm import tqdm\n",
    "# from tensorflow import keras\n",
    "# from keras.applications.efficientnet_v2 import preprocess_input\n",
    "\n",
    "# model = keras.models.load_model('./TrainingRecord/EfficientNetV2B2/2/2.h5')\n",
    "# size_0 = 288\n",
    "# size_1 = 288\n",
    "# target_size = (size_0, size_1)\n",
    "# directoryName = \"./Materials/dataset/unlabeled_data\"\n",
    "# result_path = []  \n",
    "# result = [] \n",
    "\n",
    "# for filename in tqdm(os.listdir(directoryName), position=0):\n",
    "#     img = cv2.imread(os.path.join(directoryName, filename))\n",
    "#     if img is None:\n",
    "#         continue\n",
    "#     img = cv2.cvtColor(img, cv2.COLOR_BGR2RGB)\n",
    "#     img = cv2.resize(img, target_size) \n",
    "#     img = np.expand_dims(img, axis=0)\n",
    "#     img = preprocess_input(img)\n",
    "#     predictions = model.predict(img,verbose=0)\n",
    "#     predicted_class = np.argmax(predictions)\n",
    "#     confidence = predictions[0, predicted_class]    \n",
    "#     if confidence > 0.9:\n",
    "#         result_path.append(filename)\n",
    "#         result.append(predicted_class)\n",
    "#     else:\n",
    "#         continue\n",
    "        \n",
    "# unlabeled_img_result_df = pd.DataFrame({'Name': result_path, 'Type': result})\n",
    "# unlabeled_img_result_df.to_csv('./unlabeled_img_result.csv', index=False)\n"
   ]
  },
  {
   "cell_type": "code",
   "execution_count": 6,
   "metadata": {},
   "outputs": [
    {
     "name": "stdout",
     "output_type": "stream",
     "text": [
      "Original Training Data Distribution: \n",
      "Class 0 : 3075, 29.34%\n",
      "Class 3 : 3213, 30.66%\n",
      "Class 1 : 1987, 18.96%\n",
      "Class 2 : 2204, 21.03%\n",
      "total count:  10479\n",
      "------------------------------------------\n",
      "Unlabel Data Distribution: \n",
      "Class 0 : 480, 19.81%\n",
      "Class 3 : 273, 11.27%\n",
      "Class 2 : 541, 22.33%\n",
      "Class 1 : 1129, 46.60%\n",
      "total count:  2423\n",
      "------------------------------------------\n",
      "New Training Data Distribution: \n",
      "Class 0 : 3555, 27.55%\n",
      "Class 3 : 3486, 27.02%\n",
      "Class 1 : 3116, 24.15%\n",
      "Class 2 : 2745, 21.28%\n",
      "total count:  12902\n"
     ]
    },
    {
     "data": {
      "image/png": "[encoded data removed]",
      "text/plain": [
       "<Figure size 300x300 with 1 Axes>"
      ]
     },
     "metadata": {},
     "output_type": "display_data"
    }
   ],
   "source": [
    "'''Check the distribution of the data'''\n",
    "\n",
    "print('Original Training Data Distribution: ')\n",
    "trainingData = pd.read_csv('./Materials/dataset/training_data.csv')\n",
    "trainingData_dict = trainingData.to_dict('list')\n",
    "trainingData_dict = dict(zip(trainingData_dict['Name'], trainingData_dict['Type']))\n",
    "class_counts = Counter(trainingData_dict.values())\n",
    "for class_name, class_count in class_counts.items():\n",
    "    class_percentage = class_count / len(trainingData_dict) * 100\n",
    "    print(f\"Class {class_name} : {class_count}, {class_percentage:.2f}%\")\n",
    "print(\"total count: \", len(trainingData_dict))\n",
    "\n",
    "print('------------------------------------------')\n",
    "\n",
    "print('Unlabel Data Distribution: ')\n",
    "unlabelData = pd.read_csv('./Materials/dataset/unlabeled_img_result.csv')\n",
    "unlabelData_dict = unlabelData.to_dict('list')\n",
    "unlabelData_dict = dict(zip(unlabelData_dict['Name'], unlabelData_dict['Type']))\n",
    "class_counts = Counter(unlabelData_dict.values())\n",
    "for class_name, class_count in class_counts.items():\n",
    "    class_percentage = class_count / len(unlabelData_dict) * 100\n",
    "    print(f\"Class {class_name} : {class_count}, {class_percentage:.2f}%\")\n",
    "print(\"total count: \", len(unlabelData_dict))\n",
    "\n",
    "print('------------------------------------------')\n",
    "\n",
    "print('New Training Data Distribution: ')\n",
    "trainingData_dict.update(unlabelData_dict)\n",
    "class_counts = Counter(trainingData_dict.values())\n",
    "for class_name, class_count in class_counts.items():\n",
    "    class_percentage = class_count / len(trainingData_dict) * 100\n",
    "    print(f\"Class {class_name} : {class_count}, {class_percentage:.2f}%\")\n",
    "print(\"total count: \", len(trainingData_dict))\n",
    "\n",
    "plt.figure(figsize=(3, 3))\n",
    "plt.pie(class_counts.values(), labels=class_counts.keys(), autopct='%1.2f%%', startangle=90)\n",
    "plt.show()"
   ]
  },
  {
   "cell_type": "code",
   "execution_count": 7,
   "metadata": {},
   "outputs": [
    {
     "name": "stderr",
     "output_type": "stream",
     "text": [
      "  0%|          | 0/2800 [00:00<?, ?it/s]"
     ]
    },
    {
     "name": "stderr",
     "output_type": "stream",
     "text": [
      "100%|██████████| 2800/2800 [00:35<00:00, 79.19it/s] \n",
      "100%|██████████| 10479/10479 [01:34<00:00, 110.46it/s]\n",
      "100%|██████████| 5277/5277 [00:14<00:00, 373.03it/s]\n"
     ]
    }
   ],
   "source": [
    "'''Data Loader'''\n",
    "from keras.applications.efficientnet_v2 import preprocess_input\n",
    "size_0 = 288\n",
    "size_1 = 288\n",
    "target_size = (size_0, size_1) \n",
    "def LoadData(directoryName):\n",
    "    output = [] \n",
    "    for filename in tqdm(os.listdir(directoryName)):\n",
    "        img = cv2.imread(os.path.join(directoryName, filename))\n",
    "        if img is None:\n",
    "            continue\n",
    "        img = cv2.cvtColor(img, cv2.COLOR_BGR2RGB)\n",
    "        img = cv2.resize(img, target_size) \n",
    "        img = np.expand_dims(img, axis=0)\n",
    "        img = preprocess_input(img)\n",
    "        img = np.squeeze(img, axis=0)  \n",
    "        \n",
    "        if directoryName == \"./Materials/dataset/unlabeled_data\":\n",
    "            if filename in trainingData_dict:\n",
    "                label = trainingData_dict.get(filename)\n",
    "                output.append((img, label))  \n",
    "            else:\n",
    "                continue  \n",
    "            \n",
    "        if directoryName == \"./Materials/dataset/test\" or directoryName == \"./Materials/dataset/train\":\n",
    "            if filename in trainingData_dict:\n",
    "                label = trainingData_dict.get(filename)\n",
    "                output.append((img, label))\n",
    "            else:\n",
    "                output.append((img, None))\n",
    "    return output\n",
    "\n",
    "test_data = LoadData(\"./Materials/dataset/test\")\n",
    "train_data = LoadData(\"./Materials/dataset/train\")\n",
    "unlabel_data = LoadData(\"./Materials/dataset/unlabeled_data\")\n",
    "train_data = train_data + unlabel_data"
   ]
  },
  {
   "cell_type": "code",
   "execution_count": 8,
   "metadata": {},
   "outputs": [
    {
     "name": "stdout",
     "output_type": "stream",
     "text": [
      "Number of training examples: 12902 images\n",
      "Number of unlabel examples: 2423 images\n",
      "Number of testing examples: 2800 images\n",
      "Each image is size of: (288, 288)\n"
     ]
    }
   ],
   "source": [
    "'''Check the size of the data'''\n",
    "test_images = np.array([img for img, label in test_data], dtype='float16')\n",
    "unlabel_images = np.array([img for img, label in unlabel_data], dtype='float16')\n",
    "train_images, train_labels = zip(*train_data)\n",
    "train_images = np.array(train_images, dtype = 'float16') \n",
    "train_labels = np.array(train_labels, dtype = 'int32')\n",
    "\n",
    "print(f\"Number of training examples: {train_images.shape[0]} images\")\n",
    "print(f\"Number of unlabel examples: {unlabel_images.shape[0]} images\")\n",
    "print(f\"Number of testing examples: {test_images.shape[0]} images\")\n",
    "print (\"Each image is size of: {}\".format(target_size))\n",
    "\n",
    "'''rescale the pixel values in the images to be between 0 and 1'''\n",
    "# train_images = train_images / 255.0\n",
    "# test_images = test_images / 255.0\n",
    "\n",
    "'''normalize the pixel values in the images to have mean of 0 and standard deviation of 1'''\n",
    "#mean = np.mean(train_images)\n",
    "#std = np.std(train_images)\n",
    "#train_images = (train_images - mean) / (std+1e-7)\n",
    "#test_images = (test_images - mean) / (std+1e-7)\n",
    "\n",
    "'''one hot encode the labels'''\n",
    "from tensorflow.keras.utils import to_categorical\n",
    "num_classes = len(np.unique(train_labels))\n",
    "train_labels = to_categorical(train_labels, num_classes=num_classes)"
   ]
  },
  {
   "cell_type": "markdown",
   "metadata": {},
   "source": [
    "### Function Testing"
   ]
  },
  {
   "cell_type": "code",
   "execution_count": 9,
   "metadata": {},
   "outputs": [],
   "source": [
    "# function_test_data = LoadData(\"./Materials/testing\")\n",
    "# function_test_data\n",
    "\n",
    "# for i in range(0, len(function_test_data)):\n",
    "#     plt.figure()\n",
    "#     plt.imshow(function_test_data[i][0])\n",
    "#     plt.grid(False)\n",
    "#     plt.axis('off')"
   ]
  },
  {
   "cell_type": "markdown",
   "metadata": {},
   "source": [
    "### Model Building"
   ]
  },
  {
   "cell_type": "code",
   "execution_count": 10,
   "metadata": {},
   "outputs": [],
   "source": [
    "'''Data Augmentation'''\n",
    "from tensorflow.keras.preprocessing.image import ImageDataGenerator\n",
    "\n",
    "datagen = ImageDataGenerator(\n",
    "    rotation_range=15,\n",
    "    # width_shift_range=0.1,\n",
    "    # height_shift_range=0.1,\n",
    "    zoom_range = 0.2,\n",
    "    brightness_range = [0.5, 1.5],\n",
    "    horizontal_flip=True,\n",
    "    vertical_flip=True)\n",
    "\n",
    "datagen.fit(train_images)"
   ]
  },
  {
   "cell_type": "code",
   "execution_count": 11,
   "metadata": {},
   "outputs": [
    {
     "name": "stdout",
     "output_type": "stream",
     "text": [
      "Model: \"sequential\"\n",
      "_________________________________________________________________\n",
      " Layer (type)                Output Shape              Param #   \n",
      "=================================================================\n",
      " efficientnetv2-b2 (Function  (None, 9, 9, 1408)       8769374   \n",
      " al)                                                             \n",
      "                                                                 \n",
      " global_average_pooling2d (G  (None, 1408)             0         \n",
      " lobalAveragePooling2D)                                          \n",
      "                                                                 \n",
      " dense (Dense)               (None, 368)               518512    \n",
      "                                                                 \n",
      " dense_1 (Dense)             (None, 4)                 1476      \n",
      "                                                                 \n",
      "=================================================================\n",
      "Total params: 9,289,362\n",
      "Trainable params: 9,207,074\n",
      "Non-trainable params: 82,288\n",
      "_________________________________________________________________\n"
     ]
    }
   ],
   "source": [
    "'''Model Building'''\n",
    "from tensorflow.keras.applications import EfficientNetV2B1, InceptionResNetV2,EfficientNetV2B0,MobileNet,InceptionV3,ResNet50,VGG16,EfficientNetB3, EfficientNetB7, EfficientNetV2L ,EfficientNetV2M , EfficientNetV2S , EfficientNetV2B3, EfficientNetV2B2 ,Xception\n",
    "from tensorflow.keras.models import Sequential\n",
    "from tensorflow.keras.layers import Dense, Flatten, BatchNormalization, Dropout, Conv2D, MaxPooling2D , GlobalAveragePooling2D\n",
    "from tensorflow.keras.utils import plot_model\n",
    "from tensorflow.keras.regularizers import l2\n",
    "\n",
    "base_model = EfficientNetV2B2(weights='imagenet', include_top=False, input_shape=(size_0, size_1, 3))\n",
    "\n",
    "# for layer in base_model.layers[:-78]:\n",
    "#      layer.trainable = False\n",
    "base_model.trainable = True    \n",
    "\n",
    "model = Sequential([\n",
    "    base_model,\n",
    "    GlobalAveragePooling2D(),\n",
    "    # BatchNormalization(),\n",
    "    Dense(368, activation='relu'),#, kernel_regularizer=l2(0.01)\n",
    "    # Dropout(0.3),\n",
    "    Dense(4, activation='softmax')  \n",
    "])\n",
    "\n",
    "# model = keras.models.load_model('./Models/test.h5')\n",
    "\n",
    "optimizer = tf.optimizers.Adam(learning_rate=1e-5)\n",
    "model.compile(optimizer=optimizer, loss='categorical_crossentropy', metrics=['accuracy'])\n",
    "model.summary()\n",
    "# plot_model(model, to_file='model_plot.png', show_shapes=True, show_layer_names=True)"
   ]
  },
  {
   "cell_type": "code",
   "execution_count": 12,
   "metadata": {},
   "outputs": [
    {
     "name": "stdout",
     "output_type": "stream",
     "text": [
      "72\n",
      "Epoch 1/10\n",
      "726/726 [==============================] - ETA: 0s - loss: 0.5723 - accuracy: 0.7943\n",
      "Epoch 1: val_accuracy improved from -inf to 0.89466, saving model to ./TrainingRecord\\test.h5\n",
      "726/726 [==============================] - 117s 139ms/step - loss: 0.5723 - accuracy: 0.7943 - val_loss: 0.3268 - val_accuracy: 0.8947 - lr: 5.0000e-05\n",
      "Epoch 2/10\n",
      "726/726 [==============================] - ETA: 0s - loss: 0.2690 - accuracy: 0.9130\n",
      "Epoch 2: val_accuracy improved from 0.89466 to 0.89543, saving model to ./TrainingRecord\\test.h5\n",
      "726/726 [==============================] - 110s 152ms/step - loss: 0.2690 - accuracy: 0.9130 - val_loss: 0.3168 - val_accuracy: 0.8954 - lr: 2.5000e-05\n",
      "Epoch 3/10\n",
      "726/726 [==============================] - ETA: 0s - loss: 0.1864 - accuracy: 0.9409\n",
      "Epoch 3: val_accuracy improved from 0.89543 to 0.90240, saving model to ./TrainingRecord\\test.h5\n",
      "726/726 [==============================] - 108s 148ms/step - loss: 0.1864 - accuracy: 0.9409 - val_loss: 0.3127 - val_accuracy: 0.9024 - lr: 1.2500e-05\n",
      "Epoch 4/10\n",
      "726/726 [==============================] - ETA: 0s - loss: 0.1477 - accuracy: 0.9534\n",
      "Epoch 4: val_accuracy did not improve from 0.90240\n",
      "726/726 [==============================] - 96s 132ms/step - loss: 0.1477 - accuracy: 0.9534 - val_loss: 0.3229 - val_accuracy: 0.8962 - lr: 6.2500e-06\n",
      "Epoch 5/10\n",
      "726/726 [==============================] - ETA: 0s - loss: 0.1276 - accuracy: 0.9614\n",
      "Epoch 5: val_accuracy did not improve from 0.90240\n",
      "726/726 [==============================] - 95s 132ms/step - loss: 0.1276 - accuracy: 0.9614 - val_loss: 0.3191 - val_accuracy: 0.8985 - lr: 3.1250e-06\n",
      "Epoch 6/10\n",
      "726/726 [==============================] - ETA: 0s - loss: 0.1221 - accuracy: 0.9619\n",
      "Epoch 6: val_accuracy did not improve from 0.90240\n",
      "726/726 [==============================] - 96s 132ms/step - loss: 0.1221 - accuracy: 0.9619 - val_loss: 0.3296 - val_accuracy: 0.8970 - lr: 1.5625e-06\n"
     ]
    }
   ],
   "source": [
    "'''Model Training'''\n",
    "from tensorflow.keras.utils import Sequence\n",
    "from sklearn.model_selection import train_test_split\n",
    "from tensorflow.keras.preprocessing.image import ImageDataGenerator\n",
    "from tensorflow.keras.callbacks import ModelCheckpoint, EarlyStopping\n",
    "from tensorflow.keras.callbacks import LearningRateScheduler\n",
    "import math\n",
    "\n",
    "def lr_decay(epoch):\n",
    "  start_lr = 0.0001\n",
    "  drop = 0.5\n",
    "  epochs_drop = 1\n",
    "  lr = start_lr * math.pow(drop, math.floor((1+epoch)/epochs_drop))\n",
    "  return lr\n",
    "lr_scheduler = LearningRateScheduler(lr_decay)\n",
    "\n",
    "class DataGenerator(Sequence):\n",
    "    def __init__(self, x_set, y_set, batch_size):\n",
    "        self.x, self.y = x_set, y_set\n",
    "        self.batch_size = batch_size\n",
    "\n",
    "    def __len__(self):\n",
    "        return int(np.ceil(len(self.x) / float(self.batch_size)))\n",
    "\n",
    "    def __getitem__(self, idx):\n",
    "        batch_x = self.x[idx * self.batch_size:(idx + 1) * self.batch_size]\n",
    "        batch_y = self.y[idx * self.batch_size:(idx + 1) * self.batch_size]\n",
    "        return np.array(batch_x), np.array(batch_y)\n",
    "    \n",
    "reset_keras()\n",
    "\n",
    "checkpint = ModelCheckpoint(filepath='./TrainingRecord/test.h5', monitor='val_accuracy', verbose=2, save_best_only=True)\n",
    "early_stopping = EarlyStopping(monitor='val_accuracy', patience=3, restore_best_weights=True)\n",
    "    \n",
    "X_train, X_val, y_train, y_val = train_test_split(train_images, train_labels, test_size=0.1, random_state=42)\n",
    "datagen.fit(X_train)\n",
    "train_gen = DataGenerator(X_train, y_train, 16)\n",
    "test_gen = DataGenerator(X_val, y_val, 16)\n",
    "history = model.fit(train_gen,validation_data=test_gen, epochs=10, callbacks=[checkpint,lr_scheduler,early_stopping])\n",
    "\n",
    "pd.DataFrame(history.history).to_csv(\"./TrainingRecord/test.csv\")"
   ]
  },
  {
   "cell_type": "code",
   "execution_count": 13,
   "metadata": {},
   "outputs": [
    {
     "data": {
      "image/png": "[encoded data removed]",
      "text/plain": [
       "<Figure size 1500x1000 with 2 Axes>"
      ]
     },
     "metadata": {},
     "output_type": "display_data"
    }
   ],
   "source": [
    "'''Model Evaluation'''\n",
    "def plot_accuracy_loss(history):\n",
    "    \"\"\"\n",
    "        Plot the accuracy and the loss during the training of the nn.\n",
    "    \"\"\"\n",
    "    fig = plt.figure(figsize=(15,10))\n",
    "\n",
    "    # Plot accuracy\n",
    "    plt.subplot(221)\n",
    "    plt.plot(history.history['accuracy'],'bo--', label = \"acc\")\n",
    "    plt.plot(history.history['val_accuracy'], 'ro--', label = \"val_acc\")\n",
    "    plt.title(\"train_acc vs val_acc\")\n",
    "    plt.ylabel(\"accuracy\")\n",
    "    plt.xlabel(\"epochs\")\n",
    "    plt.legend()\n",
    "\n",
    "    # Plot loss function\n",
    "    plt.subplot(222)\n",
    "    plt.plot(history.history['loss'],'bo--', label = \"loss\")\n",
    "    plt.plot(history.history['val_loss'], 'ro--', label = \"val_loss\")\n",
    "    plt.title(\"train_loss vs val_loss\")\n",
    "    plt.ylabel(\"loss\")\n",
    "    plt.xlabel(\"epochs\")\n",
    "\n",
    "    plt.legend()\n",
    "    plt.show()\n",
    "    \n",
    "plot_accuracy_loss(history)"
   ]
  },
  {
   "cell_type": "markdown",
   "metadata": {},
   "source": [
    "### Predictions"
   ]
  },
  {
   "cell_type": "code",
   "execution_count": 14,
   "metadata": {},
   "outputs": [
    {
     "name": "stdout",
     "output_type": "stream",
     "text": [
      "88/88 [==============================] - 8s 62ms/step\n",
      "Class 0 : 798, 28.50%\n",
      "Class 1 : 574, 20.50%\n",
      "Class 2 : 747, 26.68%\n",
      "Class 3 : 681, 24.32%\n"
     ]
    }
   ],
   "source": [
    "'''Check prediction result'''\n",
    "predictions = model.predict(test_images)\n",
    "pred_labels = np.argmax(predictions, axis=1)\n",
    "\n",
    "number, counts = np.unique(pred_labels, return_counts=True)\n",
    "for number, counts in zip(number, counts):\n",
    "    class_percentage = counts / (pred_labels.shape[0]) * 100\n",
    "    print(f\"Class {number} : {counts}, {class_percentage:.2f}%\")"
   ]
  },
  {
   "cell_type": "markdown",
   "metadata": {},
   "source": [
    "### Save Predictions"
   ]
  },
  {
   "cell_type": "code",
   "execution_count": 18,
   "metadata": {},
   "outputs": [],
   "source": [
    "# predData = pd.read_csv('./Materials/dataset/sample_submission.csv')\n",
    "# predData['Type'] = pred_labels\n",
    "# predData.to_csv('./Predictions/34.csv', index=False)"
   ]
  }
 ],
 "metadata": {
  "kernelspec": {
   "display_name": "ML",
   "language": "python",
   "name": "python3"
  },
  "language_info": {
   "codemirror_mode": {
    "name": "ipython",
    "version": 3
   },
   "file_extension": ".py",
   "mimetype": "text/x-python",
   "name": "python",
   "nbconvert_exporter": "python",
   "pygments_lexer": "ipython3",
   "version": "3.10.13"
  }
 },
 "nbformat": 4,
 "nbformat_minor": 2
}
