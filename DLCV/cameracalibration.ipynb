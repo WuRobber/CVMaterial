{
 "cells": [
  {
   "cell_type": "code",
   "execution_count": 1,
   "metadata": {},
   "outputs": [],
   "source": [
    "import numpy as np\n",
    "import cv2 as cv\n",
    "import glob\n",
    "import pickle"
   ]
  },
  {
   "cell_type": "code",
   "execution_count": 2,
   "metadata": {},
   "outputs": [
    {
     "name": "stdout",
     "output_type": "stream",
     "text": [
      "['cameraCalibration_srcdata/RSd435i\\\\10_Color.png', 'cameraCalibration_srcdata/RSd435i\\\\11_Color.png', 'cameraCalibration_srcdata/RSd435i\\\\12_Color.png', 'cameraCalibration_srcdata/RSd435i\\\\13_Color.png', 'cameraCalibration_srcdata/RSd435i\\\\14_Color.png', 'cameraCalibration_srcdata/RSd435i\\\\15_Color.png', 'cameraCalibration_srcdata/RSd435i\\\\16_Color.png', 'cameraCalibration_srcdata/RSd435i\\\\17_Color.png', 'cameraCalibration_srcdata/RSd435i\\\\1_Color.png', 'cameraCalibration_srcdata/RSd435i\\\\2_Color.png', 'cameraCalibration_srcdata/RSd435i\\\\3_Color.png', 'cameraCalibration_srcdata/RSd435i\\\\4_Color.png', 'cameraCalibration_srcdata/RSd435i\\\\5_Color.png', 'cameraCalibration_srcdata/RSd435i\\\\6_Color.png', 'cameraCalibration_srcdata/RSd435i\\\\7_Color.png', 'cameraCalibration_srcdata/RSd435i\\\\8_Color.png', 'cameraCalibration_srcdata/RSd435i\\\\9_Color.png']\n",
      "Calibration parameters saved successfully.\n"
     ]
    }
   ],
   "source": [
    "################ FIND CHESSBOARD CORNERS - OBJECT POINTS AND IMAGE POINTS #############################\n",
    "chessboardSize = (10,7)\n",
    "frameSize = (1280,720) # realsense d435i\n",
    "# frameSize = (3024,4032) # iphone 13\n",
    "\n",
    "# termination criteria\n",
    "criteria = (cv.TERM_CRITERIA_EPS + cv.TERM_CRITERIA_MAX_ITER, 30, 0.001)\n",
    "\n",
    "objp = np.zeros((chessboardSize[0] * chessboardSize[1], 3), np.float32)\n",
    "objp[:,:2] = np.mgrid[0:chessboardSize[0],0:chessboardSize[1]].T.reshape(-1,2)\n",
    "\n",
    "size_of_chessboard_squares_mm = 20\n",
    "objp = objp * size_of_chessboard_squares_mm\n",
    "\n",
    "# Arrays to store object points and image points from all the images.\n",
    "objpoints = [] # 3d point in real world space\n",
    "imgpoints = [] # 2d points in image plane.\n",
    "\n",
    "# for RSd435i camera\n",
    "images = glob.glob('cameraCalibration_srcdata/RSd435i/*.png')\n",
    "# for iphone 13 camera\n",
    "# images = glob.glob('cameraCalibration_srcdata/iphone13/*.png')\n",
    "print(images)\n",
    "\n",
    "for image in images:\n",
    "    img = cv.imread(image)\n",
    "    gray = cv.cvtColor(img, cv.COLOR_BGR2GRAY)\n",
    "    # Find the chess board corners\n",
    "    ret, corners = cv.findChessboardCorners(gray, chessboardSize, None)\n",
    "    # If found, add object points, image points (after refining them)\n",
    "    if ret == True:\n",
    "\n",
    "        objpoints.append(objp)\n",
    "        corners2 = cv.cornerSubPix(gray, corners, (11,11), (-1,-1), criteria)\n",
    "        imgpoints.append(corners)\n",
    "\n",
    "        # Draw and display the corners\n",
    "        cv.drawChessboardCorners(img, chessboardSize, corners2, ret)\n",
    "        img = cv.resize(img, (720, 1080)) \n",
    "        cv.imshow('img', img)\n",
    "        cv.waitKey(1000)\n",
    "\n",
    "cv.destroyAllWindows()\n",
    "\n",
    "############## CALIBRATION #######################################################\n",
    "\n",
    "ret, cameraMatrix, dist, rvecs, tvecs = cv.calibrateCamera(objpoints, imgpoints, frameSize, None, None)\n",
    "\n",
    "# Save the camera calibration result\n",
    "calibration_data = {\n",
    "    \"cameraMatrix\": cameraMatrix,\n",
    "    \"dist\": dist,\n",
    "    \"rvecs\": rvecs,\n",
    "    \"tvecs\": tvecs\n",
    "}\n",
    "\n",
    "with open('cameraCalibration_srcdata/calibration_data_RSd435i.pkl', 'wb') as f:\n",
    "    pickle.dump(calibration_data, f)\n",
    "\n",
    "print(\"Calibration parameters saved successfully.\")\n",
    "\n"
   ]
  },
  {
   "cell_type": "code",
   "execution_count": 3,
   "metadata": {},
   "outputs": [
    {
     "name": "stdout",
     "output_type": "stream",
     "text": [
      "total error: 0.03223261797395963\n"
     ]
    }
   ],
   "source": [
    "# Reprojection Error\n",
    "mean_error = 0\n",
    "\n",
    "for i in range(len(objpoints)):\n",
    "    imgpoints2, _ = cv.projectPoints(objpoints[i], rvecs[i], tvecs[i], cameraMatrix, dist)\n",
    "    error = cv.norm(imgpoints[i], imgpoints2, cv.NORM_L2)/len(imgpoints2)\n",
    "    mean_error += error\n",
    "\n",
    "print( \"total error: {}\".format(mean_error/len(objpoints)) )"
   ]
  },
  {
   "cell_type": "code",
   "execution_count": 6,
   "metadata": {},
   "outputs": [
    {
     "name": "stdout",
     "output_type": "stream",
     "text": [
      "Undistorted image saved successfully.\n"
     ]
    }
   ],
   "source": [
    "# read the calibration data\n",
    "with open('cameraCalibration_srcdata/calibration_data_RSd435i.pkl', 'rb') as f:\n",
    "    calibration_data = pickle.load(f)\n",
    "    cameraMatrix = calibration_data[\"cameraMatrix\"]\n",
    "    dist = calibration_data[\"dist\"]\n",
    "    rvecs = calibration_data[\"rvecs\"]\n",
    "    tvecs = calibration_data[\"tvecs\"]\n",
    "\n",
    "# read the image\n",
    "img = cv.imread('cameraCalibration_srcdata/distorted/RSd435i/bg_removed.png')\n",
    "h, w = img.shape[:2]\n",
    "\n",
    "newCameraMatrix, roi = cv.getOptimalNewCameraMatrix(cameraMatrix, dist, (w, h), 1, (w, h))\n",
    "\n",
    "# Undistort\n",
    "dst = cv.undistort(img, cameraMatrix, dist, None, newCameraMatrix)\n",
    "\n",
    "# crop the image\n",
    "x, y, w, h = roi\n",
    "dst_crop = dst[y:y+h, x:x+w]\n",
    "\n",
    "cv.imwrite('cameraCalibration_srcdata/undistorted/RSd435i/bg_removed.jpg', dst)\n",
    "cv.imwrite('cameraCalibration_srcdata/undistorted/RSd435i/bg_removed_crop.jpg', dst_crop)\n",
    "print(\"Undistorted image saved successfully.\")"
   ]
  }
 ],
 "metadata": {
  "kernelspec": {
   "display_name": "CV",
   "language": "python",
   "name": "python3"
  },
  "language_info": {
   "codemirror_mode": {
    "name": "ipython",
    "version": 3
   },
   "file_extension": ".py",
   "mimetype": "text/x-python",
   "name": "python",
   "nbconvert_exporter": "python",
   "pygments_lexer": "ipython3",
   "version": "3.9.18"
  }
 },
 "nbformat": 4,
 "nbformat_minor": 2
}
